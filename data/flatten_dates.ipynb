{
 "cells": [
  {
   "cell_type": "code",
   "execution_count": 1,
   "metadata": {
    "collapsed": true
   },
   "outputs": [],
   "source": [
    "import pandas as pd"
   ]
  },
  {
   "cell_type": "code",
   "execution_count": 2,
   "metadata": {
    "collapsed": false
   },
   "outputs": [],
   "source": [
    "data= pd.read_csv('climate-data-wRegion.csv')"
   ]
  },
  {
   "cell_type": "code",
   "execution_count": 3,
   "metadata": {
    "collapsed": false
   },
   "outputs": [
    {
     "data": {
      "text/html": [
       "<div>\n",
       "<table border=\"1\" class=\"dataframe\">\n",
       "  <thead>\n",
       "    <tr style=\"text-align: right;\">\n",
       "      <th></th>\n",
       "      <th>Country code</th>\n",
       "      <th>Country name</th>\n",
       "      <th>Country region</th>\n",
       "      <th>Series code</th>\n",
       "      <th>Series name</th>\n",
       "      <th>SCALE</th>\n",
       "      <th>Decimals</th>\n",
       "      <th>1990</th>\n",
       "      <th>1991</th>\n",
       "      <th>1992</th>\n",
       "      <th>...</th>\n",
       "      <th>2002</th>\n",
       "      <th>2003</th>\n",
       "      <th>2004</th>\n",
       "      <th>2005</th>\n",
       "      <th>2006</th>\n",
       "      <th>2007</th>\n",
       "      <th>2008</th>\n",
       "      <th>2009</th>\n",
       "      <th>2010</th>\n",
       "      <th>2011</th>\n",
       "    </tr>\n",
       "  </thead>\n",
       "  <tbody>\n",
       "    <tr>\n",
       "      <th>0</th>\n",
       "      <td>ABW</td>\n",
       "      <td>Aruba</td>\n",
       "      <td>Latin America &amp; Caribbean</td>\n",
       "      <td>AG.LND.EL5M.ZS</td>\n",
       "      <td>Land area below 5m (% of land area)</td>\n",
       "      <td>0</td>\n",
       "      <td>1</td>\n",
       "      <td>29.57</td>\n",
       "      <td>..</td>\n",
       "      <td>..</td>\n",
       "      <td>...</td>\n",
       "      <td>..</td>\n",
       "      <td>..</td>\n",
       "      <td>..</td>\n",
       "      <td>..</td>\n",
       "      <td>..</td>\n",
       "      <td>..</td>\n",
       "      <td>..</td>\n",
       "      <td>..</td>\n",
       "      <td>..</td>\n",
       "      <td>..</td>\n",
       "    </tr>\n",
       "  </tbody>\n",
       "</table>\n",
       "<p>1 rows × 29 columns</p>\n",
       "</div>"
      ],
      "text/plain": [
       "  Country code Country name             Country region     Series code  \\\n",
       "0          ABW        Aruba  Latin America & Caribbean  AG.LND.EL5M.ZS   \n",
       "\n",
       "                           Series name SCALE Decimals   1990 1991 1992 ...   \\\n",
       "0  Land area below 5m (% of land area)     0        1  29.57   ..   .. ...    \n",
       "\n",
       "  2002 2003 2004 2005 2006 2007 2008 2009 2010 2011  \n",
       "0   ..   ..   ..   ..   ..   ..   ..   ..   ..   ..  \n",
       "\n",
       "[1 rows x 29 columns]"
      ]
     },
     "execution_count": 3,
     "metadata": {},
     "output_type": "execute_result"
    }
   ],
   "source": [
    "data.head(1)"
   ]
  },
  {
   "cell_type": "code",
   "execution_count": 4,
   "metadata": {
    "collapsed": false
   },
   "outputs": [
    {
     "data": {
      "text/plain": [
       "Index(['Country code', 'Country name', 'Country region', 'Series code',\n",
       "       'Series name', 'SCALE', 'Decimals', '1990', '1991', '1992', '1993',\n",
       "       '1994', '1995', '1996', '1997', '1998', '1999', '2000', '2001', '2002',\n",
       "       '2003', '2004', '2005', '2006', '2007', '2008', '2009', '2010', '2011'],\n",
       "      dtype='object')"
      ]
     },
     "execution_count": 4,
     "metadata": {},
     "output_type": "execute_result"
    }
   ],
   "source": [
    "data.columns"
   ]
  },
  {
   "cell_type": "code",
   "execution_count": 5,
   "metadata": {
    "collapsed": true
   },
   "outputs": [],
   "source": [
    "id_cols = ['Country code', 'Country name', 'Country region', 'Series code', 'Series name', 'SCALE']"
   ]
  },
  {
   "cell_type": "code",
   "execution_count": 6,
   "metadata": {
    "collapsed": true
   },
   "outputs": [],
   "source": [
    "year_cols = ['1990', '1991', '1992', '1993', '1994', '1995', '1996',\n",
    "       '1997', '1998', '1999', '2000', '2001', '2002', '2003', '2004', '2005',\n",
    "       '2006', '2007', '2008', '2009', '2010', '2011']"
   ]
  },
  {
   "cell_type": "code",
   "execution_count": 7,
   "metadata": {
    "collapsed": false
   },
   "outputs": [],
   "source": [
    "melted = pd.melt(data, id_vars=id_cols, value_vars=year_cols, var_name='year')"
   ]
  },
  {
   "cell_type": "code",
   "execution_count": 8,
   "metadata": {
    "collapsed": true
   },
   "outputs": [],
   "source": [
    "melted.to_csv('climate-data-melted.csv',index=False)"
   ]
  },
  {
   "cell_type": "code",
   "execution_count": 9,
   "metadata": {
    "collapsed": false
   },
   "outputs": [
    {
     "data": {
      "text/html": [
       "<div>\n",
       "<table border=\"1\" class=\"dataframe\">\n",
       "  <thead>\n",
       "    <tr style=\"text-align: right;\">\n",
       "      <th></th>\n",
       "      <th>Country code</th>\n",
       "      <th>Country name</th>\n",
       "      <th>Country region</th>\n",
       "      <th>Series code</th>\n",
       "      <th>Series name</th>\n",
       "      <th>SCALE</th>\n",
       "      <th>year</th>\n",
       "      <th>value</th>\n",
       "    </tr>\n",
       "  </thead>\n",
       "  <tbody>\n",
       "    <tr>\n",
       "      <th>0</th>\n",
       "      <td>ABW</td>\n",
       "      <td>Aruba</td>\n",
       "      <td>Latin America &amp; Caribbean</td>\n",
       "      <td>AG.LND.EL5M.ZS</td>\n",
       "      <td>Land area below 5m (% of land area)</td>\n",
       "      <td>0</td>\n",
       "      <td>1990</td>\n",
       "      <td>29.57</td>\n",
       "    </tr>\n",
       "    <tr>\n",
       "      <th>1</th>\n",
       "      <td>ADO</td>\n",
       "      <td>Andorra</td>\n",
       "      <td>Europe &amp; Central Asia</td>\n",
       "      <td>AG.LND.EL5M.ZS</td>\n",
       "      <td>Land area below 5m (% of land area)</td>\n",
       "      <td>0</td>\n",
       "      <td>1990</td>\n",
       "      <td>0.00</td>\n",
       "    </tr>\n",
       "    <tr>\n",
       "      <th>2</th>\n",
       "      <td>AFG</td>\n",
       "      <td>Afghanistan</td>\n",
       "      <td>South Asia</td>\n",
       "      <td>AG.LND.EL5M.ZS</td>\n",
       "      <td>Land area below 5m (% of land area)</td>\n",
       "      <td>0</td>\n",
       "      <td>1990</td>\n",
       "      <td>0.00</td>\n",
       "    </tr>\n",
       "    <tr>\n",
       "      <th>3</th>\n",
       "      <td>AGO</td>\n",
       "      <td>Angola</td>\n",
       "      <td>Sub-Saharan Africa</td>\n",
       "      <td>AG.LND.EL5M.ZS</td>\n",
       "      <td>Land area below 5m (% of land area)</td>\n",
       "      <td>0</td>\n",
       "      <td>1990</td>\n",
       "      <td>0.21</td>\n",
       "    </tr>\n",
       "    <tr>\n",
       "      <th>4</th>\n",
       "      <td>ALB</td>\n",
       "      <td>Albania</td>\n",
       "      <td>Europe &amp; Central Asia</td>\n",
       "      <td>AG.LND.EL5M.ZS</td>\n",
       "      <td>Land area below 5m (% of land area)</td>\n",
       "      <td>0</td>\n",
       "      <td>1990</td>\n",
       "      <td>4.97</td>\n",
       "    </tr>\n",
       "  </tbody>\n",
       "</table>\n",
       "</div>"
      ],
      "text/plain": [
       "  Country code Country name             Country region     Series code  \\\n",
       "0          ABW        Aruba  Latin America & Caribbean  AG.LND.EL5M.ZS   \n",
       "1          ADO      Andorra      Europe & Central Asia  AG.LND.EL5M.ZS   \n",
       "2          AFG  Afghanistan                 South Asia  AG.LND.EL5M.ZS   \n",
       "3          AGO       Angola         Sub-Saharan Africa  AG.LND.EL5M.ZS   \n",
       "4          ALB      Albania      Europe & Central Asia  AG.LND.EL5M.ZS   \n",
       "\n",
       "                           Series name SCALE  year  value  \n",
       "0  Land area below 5m (% of land area)     0  1990  29.57  \n",
       "1  Land area below 5m (% of land area)     0  1990   0.00  \n",
       "2  Land area below 5m (% of land area)     0  1990   0.00  \n",
       "3  Land area below 5m (% of land area)     0  1990   0.21  \n",
       "4  Land area below 5m (% of land area)     0  1990   4.97  "
      ]
     },
     "execution_count": 9,
     "metadata": {},
     "output_type": "execute_result"
    }
   ],
   "source": [
    "melted.head()"
   ]
  },
  {
   "cell_type": "code",
   "execution_count": 10,
   "metadata": {
    "collapsed": false
   },
   "outputs": [
    {
     "data": {
      "text/plain": [
       "array(['Aruba', 'Andorra', 'Afghanistan', 'Angola', 'Albania',\n",
       "       'United Arab Emirates', 'Argentina', 'Armenia', 'American Samoa',\n",
       "       'Antigua and Barbuda', 'Australia', 'Austria', 'Azerbaijan',\n",
       "       'Burundi', 'Belgium', 'Benin', 'Burkina Faso', 'Bangladesh',\n",
       "       'Bulgaria', 'Bahrain', 'Bahamas, The', 'Bosnia and Herzegovina',\n",
       "       'Belarus', 'Belize', 'Bermuda', 'Bolivia', 'Brazil', 'Barbados',\n",
       "       'Brunei Darussalam', 'Bhutan', 'Botswana',\n",
       "       'Central African Republic', 'Canada', 'Switzerland',\n",
       "       'Channel Islands', 'Chile', 'China', \"Cote d'Ivoire\", 'Cameroon',\n",
       "       'Congo, Rep.', 'Cook Islands', 'Colombia', 'Comoros', 'Cape Verde',\n",
       "       'Costa Rica', 'Cuba', 'Curacao', 'Cayman Islands', 'Cyprus',\n",
       "       'Czech Republic', 'Germany', 'Djibouti', 'Dominica', 'Denmark',\n",
       "       'Dominican Republic', 'Algeria', 'East Asia & Pacific',\n",
       "       'Europe & Central Asia', 'Ecuador', 'Egypt, Arab Rep.', 'Euro area',\n",
       "       'Eritrea', 'Spain', 'Estonia', 'Ethiopia', 'Finland', 'Fiji',\n",
       "       'France', 'Faeroe Islands', 'Micronesia, Fed. Sts.', 'Gabon',\n",
       "       'United Kingdom', 'Georgia', 'Ghana', 'Gibraltar', 'Guinea',\n",
       "       'Gambia, The', 'Guinea-Bissau', 'Equatorial Guinea', 'Greece',\n",
       "       'Grenada', 'Greenland', 'Guatemala', 'Guam', 'Guyana',\n",
       "       'High income', 'Hong Kong SAR, China', 'Honduras', 'Croatia',\n",
       "       'Haiti', 'Hungary', 'Indonesia', 'Isle of Man', 'India', 'Ireland',\n",
       "       'Iran, Islamic Rep.', 'Iraq', 'Iceland', 'Israel', 'Italy',\n",
       "       'Jamaica', 'Jordan', 'Japan', 'Kazakhstan', 'Kenya',\n",
       "       'Kyrgyz Republic', 'Cambodia', 'Kiribati', 'St. Kitts and Nevis',\n",
       "       'Korea, Rep.', 'Kosovo', 'Kuwait', 'Latin America & Caribbean',\n",
       "       'Lao PDR', 'Lebanon', 'Liberia', 'Libya', 'St. Lucia', 'Low income',\n",
       "       'Liechtenstein', 'Sri Lanka', 'Lower middle income',\n",
       "       'Low & middle income', 'Lesotho', 'Lithuania', 'Luxembourg',\n",
       "       'Latvia', 'Macao SAR, China', 'St. Martin (French part)', 'Morocco',\n",
       "       'Monaco', 'Moldova', 'Madagascar', 'Maldives', 'Mexico',\n",
       "       'Marshall Islands', 'Middle income', 'Macedonia, FYR', 'Mali',\n",
       "       'Malta', 'Myanmar', 'Middle East & North Africa', 'Montenegro',\n",
       "       'Mongolia', 'Northern Mariana Islands', 'Mozambique', 'Mauritania',\n",
       "       'Mauritius', 'Malawi', 'Malaysia', 'Mayotte', 'Namibia',\n",
       "       'New Caledonia', 'Niger', 'Nigeria', 'Nicaragua', 'Niue',\n",
       "       'Netherlands', 'Norway', 'Nepal', 'Nauru', 'New Zealand', 'Oman',\n",
       "       'Pakistan', 'Panama', 'Peru', 'Philippines', 'Palau',\n",
       "       'Papua New Guinea', 'Poland', 'Puerto Rico', 'Korea, Dem. Rep.',\n",
       "       'Portugal', 'Paraguay', 'French Polynesia', 'Qatar', 'Romania',\n",
       "       'Russian Federation', 'Rwanda', 'South Asia', 'Saudi Arabia',\n",
       "       'Sudan', 'Senegal', 'Singapore', 'Small island developing states',\n",
       "       'Solomon Islands', 'Sierra Leone', 'El Salvador', 'San Marino',\n",
       "       'Somalia', 'Serbia', 'Sub-Saharan Africa', 'Sao Tome and Principe',\n",
       "       'Suriname', 'Slovak Republic', 'Slovenia', 'Sweden', 'Swaziland',\n",
       "       'Sint Maarten (Dutch part)', 'Seychelles', 'Syrian Arab Republic',\n",
       "       'Turks and Caicos Islands', 'Chad', 'Togo', 'Thailand',\n",
       "       'Tajikistan', 'Turkmenistan', 'Timor-Leste', 'Tonga',\n",
       "       'Trinidad and Tobago', 'Tunisia', 'Turkey', 'Tuvalu', 'Tanzania',\n",
       "       'Uganda', 'Ukraine', 'Upper middle income', 'Uruguay',\n",
       "       'United States', 'Uzbekistan', 'St. Vincent and the Grenadines',\n",
       "       'Venezuela, RB', 'Virgin Islands (U.S.)', 'Vietnam', 'Vanuatu',\n",
       "       'West Bank and Gaza', 'World', 'Samoa', 'Yemen, Rep.',\n",
       "       'South Africa', 'Congo, Dem. Rep.', 'Zambia', 'Zimbabwe'], dtype=object)"
      ]
     },
     "execution_count": 10,
     "metadata": {},
     "output_type": "execute_result"
    }
   ],
   "source": [
    "melted['Country name'].unique()"
   ]
  },
  {
   "cell_type": "code",
   "execution_count": 11,
   "metadata": {
    "collapsed": true
   },
   "outputs": [],
   "source": [
    "test_set = melted[melted['Country name'].isin(['China', 'France', 'United States', 'New Zealand', 'World'])]"
   ]
  },
  {
   "cell_type": "code",
   "execution_count": 12,
   "metadata": {
    "collapsed": false
   },
   "outputs": [
    {
     "data": {
      "text/html": [
       "<div>\n",
       "<table border=\"1\" class=\"dataframe\">\n",
       "  <thead>\n",
       "    <tr style=\"text-align: right;\">\n",
       "      <th></th>\n",
       "      <th>Country code</th>\n",
       "      <th>Country name</th>\n",
       "      <th>Country region</th>\n",
       "      <th>Series code</th>\n",
       "      <th>Series name</th>\n",
       "      <th>SCALE</th>\n",
       "      <th>year</th>\n",
       "      <th>value</th>\n",
       "    </tr>\n",
       "  </thead>\n",
       "  <tbody>\n",
       "    <tr>\n",
       "      <th>36</th>\n",
       "      <td>CHN</td>\n",
       "      <td>China</td>\n",
       "      <td>East Asia &amp; Pacific</td>\n",
       "      <td>AG.LND.EL5M.ZS</td>\n",
       "      <td>Land area below 5m (% of land area)</td>\n",
       "      <td>0</td>\n",
       "      <td>1990</td>\n",
       "      <td>1.38</td>\n",
       "    </tr>\n",
       "    <tr>\n",
       "      <th>67</th>\n",
       "      <td>FRA</td>\n",
       "      <td>France</td>\n",
       "      <td>Europe &amp; Central Asia</td>\n",
       "      <td>AG.LND.EL5M.ZS</td>\n",
       "      <td>Land area below 5m (% of land area)</td>\n",
       "      <td>0</td>\n",
       "      <td>1990</td>\n",
       "      <td>2.07</td>\n",
       "    </tr>\n",
       "    <tr>\n",
       "      <th>161</th>\n",
       "      <td>NZL</td>\n",
       "      <td>New Zealand</td>\n",
       "      <td>East Asia &amp; Pacific</td>\n",
       "      <td>AG.LND.EL5M.ZS</td>\n",
       "      <td>Land area below 5m (% of land area)</td>\n",
       "      <td>0</td>\n",
       "      <td>1990</td>\n",
       "      <td>2.74</td>\n",
       "    </tr>\n",
       "    <tr>\n",
       "      <th>218</th>\n",
       "      <td>USA</td>\n",
       "      <td>United States</td>\n",
       "      <td>North America</td>\n",
       "      <td>AG.LND.EL5M.ZS</td>\n",
       "      <td>Land area below 5m (% of land area)</td>\n",
       "      <td>0</td>\n",
       "      <td>1990</td>\n",
       "      <td>1.72</td>\n",
       "    </tr>\n",
       "    <tr>\n",
       "      <th>226</th>\n",
       "      <td>WLD</td>\n",
       "      <td>World</td>\n",
       "      <td>Aggregates</td>\n",
       "      <td>AG.LND.EL5M.ZS</td>\n",
       "      <td>Land area below 5m (% of land area)</td>\n",
       "      <td>0</td>\n",
       "      <td>1990</td>\n",
       "      <td>1.60</td>\n",
       "    </tr>\n",
       "  </tbody>\n",
       "</table>\n",
       "</div>"
      ],
      "text/plain": [
       "    Country code   Country name         Country region     Series code  \\\n",
       "36           CHN          China    East Asia & Pacific  AG.LND.EL5M.ZS   \n",
       "67           FRA         France  Europe & Central Asia  AG.LND.EL5M.ZS   \n",
       "161          NZL    New Zealand    East Asia & Pacific  AG.LND.EL5M.ZS   \n",
       "218          USA  United States          North America  AG.LND.EL5M.ZS   \n",
       "226          WLD          World             Aggregates  AG.LND.EL5M.ZS   \n",
       "\n",
       "                             Series name SCALE  year value  \n",
       "36   Land area below 5m (% of land area)     0  1990  1.38  \n",
       "67   Land area below 5m (% of land area)     0  1990  2.07  \n",
       "161  Land area below 5m (% of land area)     0  1990  2.74  \n",
       "218  Land area below 5m (% of land area)     0  1990  1.72  \n",
       "226  Land area below 5m (% of land area)     0  1990  1.60  "
      ]
     },
     "execution_count": 12,
     "metadata": {},
     "output_type": "execute_result"
    }
   ],
   "source": [
    "test_set.head()"
   ]
  },
  {
   "cell_type": "code",
   "execution_count": 13,
   "metadata": {
    "collapsed": false
   },
   "outputs": [
    {
     "data": {
      "text/plain": [
       "array(['1990', '1991', '1992', '1993', '1994', '1995', '1996', '1997',\n",
       "       '1998', '1999', '2000', '2001', '2002', '2003', '2004', '2005',\n",
       "       '2006', '2007', '2008', '2009', '2010', '2011'], dtype=object)"
      ]
     },
     "execution_count": 13,
     "metadata": {},
     "output_type": "execute_result"
    }
   ],
   "source": [
    "test_set.year.unique()"
   ]
  },
  {
   "cell_type": "code",
   "execution_count": 14,
   "metadata": {
    "collapsed": false
   },
   "outputs": [],
   "source": [
    "test_set = test_set[test_set['year'].isin(['1990', '1991'])]"
   ]
  },
  {
   "cell_type": "code",
   "execution_count": 15,
   "metadata": {
    "collapsed": false
   },
   "outputs": [
    {
     "data": {
      "text/plain": [
       "array(['Land area below 5m (% of land area)',\n",
       "       'Agricultural land under irrigation (% of total ag. land)',\n",
       "       'Cereal yield (kg per hectare)',\n",
       "       'Foreign direct investment, net inflows (% of GDP)',\n",
       "       'Access to electricity (% of total population)',\n",
       "       'Energy use per units of GDP (kg oil eq./$1,000 of 2005 PPP $)',\n",
       "       'Energy use per capita (kilograms of oil equivalent)',\n",
       "       'CO2 emissions, total (KtCO2)',\n",
       "       'CO2 emissions per capita (metric tons)',\n",
       "       'CO2 emissions per units of GDP (kg/$1,000 of 2005 PPP $)',\n",
       "       'Other GHG emissions, total (KtCO2e)',\n",
       "       'Methane (CH4) emissions, total (KtCO2e)',\n",
       "       'Nitrous oxide (N2O) emissions, total (KtCO2e)',\n",
       "       'Annex-I emissions reduction target',\n",
       "       'Disaster risk reduction progress score (1-5 scale; 5=best)',\n",
       "       'GHG net emissions/removals by LUCF (MtCO2e)',\n",
       "       'Hosted Clean Development Mechanism (CDM) projects',\n",
       "       'Hosted Joint Implementation (JI) projects',\n",
       "       'Average annual precipitation (1961-1990, mm)',\n",
       "       'Issued Certified Emission Reductions (CERs) from CDM (thousands)',\n",
       "       'Issued Emission Reduction Units (ERUs) from JI (thousands)',\n",
       "       'Droughts, floods, extreme temps (% pop. avg. 1990-2009)',\n",
       "       'Average daily min/max temperature (1961-1990, Celsius)',\n",
       "       'NAMA submission', 'NAPA submission',\n",
       "       'Latest UNFCCC national communication',\n",
       "       'Projected annual temperature change (2045-2065, Celsius)',\n",
       "       'Projected change in annual cool days/cold nights',\n",
       "       'Projected change in annual hot days/warm nights',\n",
       "       'Projected annual precipitation change (2045-2065, mm)',\n",
       "       'Renewable energy target', 'Population below 5m (% of total)',\n",
       "       'Population in urban agglomerations >1million (%)',\n",
       "       'Annual freshwater withdrawals (% of internal resources)',\n",
       "       'Nationally terrestrial protected areas (% of total land area)',\n",
       "       'Ease of doing business (ranking 1-183; 1=best)',\n",
       "       'Invest. in energy w/ private participation ($)',\n",
       "       'Invest. in telecoms w/ private participation ($)',\n",
       "       'Invest. in transport w/ private participation ($)',\n",
       "       'Invest. in water/sanit. w/ private participation ($)',\n",
       "       'Public sector mgmt & institutions avg. (1-6 scale; 6=best)',\n",
       "       'Paved roads (% of total roads)', 'GDP ($)',\n",
       "       'GNI per capita (Atlas $)',\n",
       "       'Ratio of girls to boys in primary & secondary school (%)',\n",
       "       'Primary completion rate, total (% of relevant age group)',\n",
       "       'Under-five mortality rate (per 1,000)',\n",
       "       'Access to improved water source (% of total pop.)',\n",
       "       'Nurses and midwives (per 1,000 people)',\n",
       "       'Physicians (per 1,000 people)',\n",
       "       'Malaria incidence rate (per 100,000 people)',\n",
       "       'Access to improved sanitation (% of total pop.)',\n",
       "       'Child malnutrition, underweight (% of under age 5)',\n",
       "       'Population living below $1.25 a day (% of total)',\n",
       "       'Population growth (annual %)', 'Population',\n",
       "       'Urban population growth (annual %)', 'Urban population'], dtype=object)"
      ]
     },
     "execution_count": 15,
     "metadata": {},
     "output_type": "execute_result"
    }
   ],
   "source": [
    "test_set['Series name'].unique()"
   ]
  },
  {
   "cell_type": "code",
   "execution_count": 16,
   "metadata": {
    "collapsed": true
   },
   "outputs": [],
   "source": [
    "test_set = test_set[test_set[\"Series name\"].isin(\n",
    "        ['CO2 emissions per capita (metric tons)',\n",
    "         'Energy use per capita (kilograms of oil equivalent)',\n",
    "          'Cereal yield (kg per hectare)'])]"
   ]
  },
  {
   "cell_type": "code",
   "execution_count": 17,
   "metadata": {
    "collapsed": false
   },
   "outputs": [
    {
     "data": {
      "text/html": [
       "<div>\n",
       "<table border=\"1\" class=\"dataframe\">\n",
       "  <thead>\n",
       "    <tr style=\"text-align: right;\">\n",
       "      <th></th>\n",
       "      <th>Country code</th>\n",
       "      <th>Country name</th>\n",
       "      <th>Country region</th>\n",
       "      <th>Series code</th>\n",
       "      <th>Series name</th>\n",
       "      <th>SCALE</th>\n",
       "      <th>year</th>\n",
       "      <th>value</th>\n",
       "    </tr>\n",
       "  </thead>\n",
       "  <tbody>\n",
       "    <tr>\n",
       "      <th>502</th>\n",
       "      <td>CHN</td>\n",
       "      <td>China</td>\n",
       "      <td>East Asia &amp; Pacific</td>\n",
       "      <td>AG.YLD.CREL.KG</td>\n",
       "      <td>Cereal yield (kg per hectare)</td>\n",
       "      <td>0</td>\n",
       "      <td>1990</td>\n",
       "      <td>4324.60</td>\n",
       "    </tr>\n",
       "    <tr>\n",
       "      <th>533</th>\n",
       "      <td>FRA</td>\n",
       "      <td>France</td>\n",
       "      <td>Europe &amp; Central Asia</td>\n",
       "      <td>AG.YLD.CREL.KG</td>\n",
       "      <td>Cereal yield (kg per hectare)</td>\n",
       "      <td>0</td>\n",
       "      <td>1990</td>\n",
       "      <td>6082.60</td>\n",
       "    </tr>\n",
       "    <tr>\n",
       "      <th>627</th>\n",
       "      <td>NZL</td>\n",
       "      <td>New Zealand</td>\n",
       "      <td>East Asia &amp; Pacific</td>\n",
       "      <td>AG.YLD.CREL.KG</td>\n",
       "      <td>Cereal yield (kg per hectare)</td>\n",
       "      <td>0</td>\n",
       "      <td>1990</td>\n",
       "      <td>5033.90</td>\n",
       "    </tr>\n",
       "  </tbody>\n",
       "</table>\n",
       "</div>"
      ],
      "text/plain": [
       "    Country code Country name         Country region     Series code  \\\n",
       "502          CHN        China    East Asia & Pacific  AG.YLD.CREL.KG   \n",
       "533          FRA       France  Europe & Central Asia  AG.YLD.CREL.KG   \n",
       "627          NZL  New Zealand    East Asia & Pacific  AG.YLD.CREL.KG   \n",
       "\n",
       "                       Series name SCALE  year    value  \n",
       "502  Cereal yield (kg per hectare)     0  1990  4324.60  \n",
       "533  Cereal yield (kg per hectare)     0  1990  6082.60  \n",
       "627  Cereal yield (kg per hectare)     0  1990  5033.90  "
      ]
     },
     "execution_count": 17,
     "metadata": {},
     "output_type": "execute_result"
    }
   ],
   "source": [
    "test_set.head(3)"
   ]
  },
  {
   "cell_type": "code",
   "execution_count": 18,
   "metadata": {
    "collapsed": false
   },
   "outputs": [
    {
     "data": {
      "text/plain": [
       "(30, 8)"
      ]
     },
     "execution_count": 18,
     "metadata": {},
     "output_type": "execute_result"
    }
   ],
   "source": [
    "test_set.shape"
   ]
  },
  {
   "cell_type": "code",
   "execution_count": 19,
   "metadata": {
    "collapsed": true
   },
   "outputs": [],
   "source": [
    "test_set.to_csv('climate-data-melted--debugging_set.csv',index=False)"
   ]
  },
  {
   "cell_type": "code",
   "execution_count": null,
   "metadata": {
    "collapsed": true
   },
   "outputs": [],
   "source": []
  }
 ],
 "metadata": {
  "kernelspec": {
   "display_name": "IPython (Python 3)",
   "language": "python",
   "name": "python3"
  },
  "language_info": {
   "codemirror_mode": {
    "name": "ipython",
    "version": 3
   },
   "file_extension": ".py",
   "mimetype": "text/x-python",
   "name": "python",
   "nbconvert_exporter": "python",
   "pygments_lexer": "ipython3",
   "version": "3.5.1"
  }
 },
 "nbformat": 4,
 "nbformat_minor": 0
}
